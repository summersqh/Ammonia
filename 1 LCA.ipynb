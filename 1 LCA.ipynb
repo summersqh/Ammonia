{
 "cells": [
  {
   "cell_type": "markdown",
   "metadata": {},
   "source": [
    "# Import Databases "
   ]
  },
  {
   "cell_type": "code",
   "execution_count": 1,
   "metadata": {
    "scrolled": false
   },
   "outputs": [
    {
     "data": {
      "application/javascript": [
       "\n",
       "            setTimeout(function() {\n",
       "                var nbb_cell_id = 1;\n",
       "                var nbb_unformatted_code = \"from pandas import ExcelWriter\\n\\nimport brightway2 as bw\\nimport numpy as np\\nimport os\\nimport pandas as pd\\nimport scipy as sp\\nimport time\\n\\n%load_ext nb_black\";\n",
       "                var nbb_formatted_code = \"from pandas import ExcelWriter\\n\\nimport brightway2 as bw\\nimport numpy as np\\nimport os\\nimport pandas as pd\\nimport scipy as sp\\nimport time\\n\\n%load_ext nb_black\";\n",
       "                var nbb_cells = Jupyter.notebook.get_cells();\n",
       "                for (var i = 0; i < nbb_cells.length; ++i) {\n",
       "                    if (nbb_cells[i].input_prompt_number == nbb_cell_id) {\n",
       "                        if (nbb_cells[i].get_text() == nbb_unformatted_code) {\n",
       "                             nbb_cells[i].set_text(nbb_formatted_code);\n",
       "                        }\n",
       "                        break;\n",
       "                    }\n",
       "                }\n",
       "            }, 500);\n",
       "            "
      ],
      "text/plain": [
       "<IPython.core.display.Javascript object>"
      ]
     },
     "metadata": {},
     "output_type": "display_data"
    }
   ],
   "source": [
    "from pandas import ExcelWriter\n",
    "\n",
    "import brightway2 as bw\n",
    "import numpy as np\n",
    "import os\n",
    "import pandas as pd\n",
    "import scipy as sp\n",
    "import time\n",
    "\n",
    "%load_ext nb_black"
   ]
  },
  {
   "cell_type": "code",
   "execution_count": 2,
   "metadata": {},
   "outputs": [
    {
     "data": {
      "application/javascript": [
       "\n",
       "            setTimeout(function() {\n",
       "                var nbb_cell_id = 2;\n",
       "                var nbb_unformatted_code = \"bw.projects.set_current(\\\"Ammonia\\\")  # setup and name project\";\n",
       "                var nbb_formatted_code = \"bw.projects.set_current(\\\"Ammonia\\\")  # setup and name project\";\n",
       "                var nbb_cells = Jupyter.notebook.get_cells();\n",
       "                for (var i = 0; i < nbb_cells.length; ++i) {\n",
       "                    if (nbb_cells[i].input_prompt_number == nbb_cell_id) {\n",
       "                        if (nbb_cells[i].get_text() == nbb_unformatted_code) {\n",
       "                             nbb_cells[i].set_text(nbb_formatted_code);\n",
       "                        }\n",
       "                        break;\n",
       "                    }\n",
       "                }\n",
       "            }, 500);\n",
       "            "
      ],
      "text/plain": [
       "<IPython.core.display.Javascript object>"
      ]
     },
     "metadata": {},
     "output_type": "display_data"
    }
   ],
   "source": [
    "bw.projects.set_current(\"Ammonia\")  # setup and name project"
   ]
  },
  {
   "cell_type": "code",
   "execution_count": 3,
   "metadata": {},
   "outputs": [
    {
     "name": "stdout",
     "output_type": "stream",
     "text": [
      "Biosphere database already present!!! No setup is needed\n"
     ]
    },
    {
     "data": {
      "application/javascript": [
       "\n",
       "            setTimeout(function() {\n",
       "                var nbb_cell_id = 3;\n",
       "                var nbb_unformatted_code = \"bw.bw2setup()\";\n",
       "                var nbb_formatted_code = \"bw.bw2setup()\";\n",
       "                var nbb_cells = Jupyter.notebook.get_cells();\n",
       "                for (var i = 0; i < nbb_cells.length; ++i) {\n",
       "                    if (nbb_cells[i].input_prompt_number == nbb_cell_id) {\n",
       "                        if (nbb_cells[i].get_text() == nbb_unformatted_code) {\n",
       "                             nbb_cells[i].set_text(nbb_formatted_code);\n",
       "                        }\n",
       "                        break;\n",
       "                    }\n",
       "                }\n",
       "            }, 500);\n",
       "            "
      ],
      "text/plain": [
       "<IPython.core.display.Javascript object>"
      ]
     },
     "metadata": {},
     "output_type": "display_data"
    }
   ],
   "source": [
    "bw.bw2setup()"
   ]
  },
  {
   "cell_type": "code",
   "execution_count": 4,
   "metadata": {},
   "outputs": [
    {
     "data": {
      "application/javascript": [
       "\n",
       "            setTimeout(function() {\n",
       "                var nbb_cell_id = 4;\n",
       "                var nbb_unformatted_code = \"if \\\"EC\\\" not in bw.databases:\\n    link = \\\"D:\\\\ecoinvent3.8cutoffecoSpold02\\\\datasets\\\"\\n    ei = bw.SingleOutputEcospold2Importer(link, \\\"EC\\\", use_mp=False)\\n    ei.apply_strategies()\\n    ei.statistics()\\n    ei.write_database()\";\n",
       "                var nbb_formatted_code = \"if \\\"EC\\\" not in bw.databases:\\n    link = \\\"D:\\\\ecoinvent3.8cutoffecoSpold02\\\\datasets\\\"\\n    ei = bw.SingleOutputEcospold2Importer(link, \\\"EC\\\", use_mp=False)\\n    ei.apply_strategies()\\n    ei.statistics()\\n    ei.write_database()\";\n",
       "                var nbb_cells = Jupyter.notebook.get_cells();\n",
       "                for (var i = 0; i < nbb_cells.length; ++i) {\n",
       "                    if (nbb_cells[i].input_prompt_number == nbb_cell_id) {\n",
       "                        if (nbb_cells[i].get_text() == nbb_unformatted_code) {\n",
       "                             nbb_cells[i].set_text(nbb_formatted_code);\n",
       "                        }\n",
       "                        break;\n",
       "                    }\n",
       "                }\n",
       "            }, 500);\n",
       "            "
      ],
      "text/plain": [
       "<IPython.core.display.Javascript object>"
      ]
     },
     "metadata": {},
     "output_type": "display_data"
    }
   ],
   "source": [
    "if \"EC\" not in bw.databases:\n",
    "    link = \"D:\\ecoinvent3.8cutoffecoSpold02\\datasets\"\n",
    "    ei = bw.SingleOutputEcospold2Importer(link, \"EC\", use_mp=False)\n",
    "    ei.apply_strategies()\n",
    "    ei.statistics()\n",
    "    ei.write_database()"
   ]
  },
  {
   "cell_type": "code",
   "execution_count": 5,
   "metadata": {
    "scrolled": true
   },
   "outputs": [
    {
     "data": {
      "text/plain": [
       "bw2data.backends.peewee.database.SQLiteBackend"
      ]
     },
     "execution_count": 5,
     "metadata": {},
     "output_type": "execute_result"
    },
    {
     "data": {
      "application/javascript": [
       "\n",
       "            setTimeout(function() {\n",
       "                var nbb_cell_id = 5;\n",
       "                var nbb_unformatted_code = \"eidb = bw.Database(\\\"EC\\\")\\ntype(eidb)\";\n",
       "                var nbb_formatted_code = \"eidb = bw.Database(\\\"EC\\\")\\ntype(eidb)\";\n",
       "                var nbb_cells = Jupyter.notebook.get_cells();\n",
       "                for (var i = 0; i < nbb_cells.length; ++i) {\n",
       "                    if (nbb_cells[i].input_prompt_number == nbb_cell_id) {\n",
       "                        if (nbb_cells[i].get_text() == nbb_unformatted_code) {\n",
       "                             nbb_cells[i].set_text(nbb_formatted_code);\n",
       "                        }\n",
       "                        break;\n",
       "                    }\n",
       "                }\n",
       "            }, 500);\n",
       "            "
      ],
      "text/plain": [
       "<IPython.core.display.Javascript object>"
      ]
     },
     "metadata": {},
     "output_type": "display_data"
    }
   ],
   "source": [
    "eidb = bw.Database(\"EC\")\n",
    "type(eidb)"
   ]
  },
  {
   "cell_type": "code",
   "execution_count": 6,
   "metadata": {},
   "outputs": [
    {
     "data": {
      "text/plain": [
       "bw2data.backends.peewee.database.SQLiteBackend"
      ]
     },
     "execution_count": 6,
     "metadata": {},
     "output_type": "execute_result"
    },
    {
     "data": {
      "application/javascript": [
       "\n",
       "            setTimeout(function() {\n",
       "                var nbb_cell_id = 6;\n",
       "                var nbb_unformatted_code = \"biodb = bw.Database(\\\"biosphere3\\\")\\ntype(eidb)\";\n",
       "                var nbb_formatted_code = \"biodb = bw.Database(\\\"biosphere3\\\")\\ntype(eidb)\";\n",
       "                var nbb_cells = Jupyter.notebook.get_cells();\n",
       "                for (var i = 0; i < nbb_cells.length; ++i) {\n",
       "                    if (nbb_cells[i].input_prompt_number == nbb_cell_id) {\n",
       "                        if (nbb_cells[i].get_text() == nbb_unformatted_code) {\n",
       "                             nbb_cells[i].set_text(nbb_formatted_code);\n",
       "                        }\n",
       "                        break;\n",
       "                    }\n",
       "                }\n",
       "            }, 500);\n",
       "            "
      ],
      "text/plain": [
       "<IPython.core.display.Javascript object>"
      ]
     },
     "metadata": {},
     "output_type": "display_data"
    }
   ],
   "source": [
    "biodb = bw.Database(\"biosphere3\")\n",
    "type(eidb)"
   ]
  },
  {
   "cell_type": "markdown",
   "metadata": {},
   "source": [
    "# Building LCA Matrices"
   ]
  },
  {
   "cell_type": "code",
   "execution_count": 7,
   "metadata": {},
   "outputs": [
    {
     "data": {
      "text/html": [
       "<div>\n",
       "<style scoped>\n",
       "    .dataframe tbody tr th:only-of-type {\n",
       "        vertical-align: middle;\n",
       "    }\n",
       "\n",
       "    .dataframe tbody tr th {\n",
       "        vertical-align: top;\n",
       "    }\n",
       "\n",
       "    .dataframe thead th {\n",
       "        text-align: right;\n",
       "    }\n",
       "</style>\n",
       "<table border=\"1\" class=\"dataframe\">\n",
       "  <thead>\n",
       "    <tr style=\"text-align: right;\">\n",
       "      <th></th>\n",
       "      <th>input</th>\n",
       "      <th>output</th>\n",
       "      <th>row</th>\n",
       "      <th>col</th>\n",
       "      <th>type</th>\n",
       "      <th>uncertainty_type</th>\n",
       "      <th>amount</th>\n",
       "      <th>loc</th>\n",
       "      <th>scale</th>\n",
       "      <th>shape</th>\n",
       "      <th>minimum</th>\n",
       "      <th>maximum</th>\n",
       "      <th>negative</th>\n",
       "    </tr>\n",
       "  </thead>\n",
       "  <tbody>\n",
       "    <tr>\n",
       "      <th>0</th>\n",
       "      <td>1</td>\n",
       "      <td>4710</td>\n",
       "      <td>4294967295</td>\n",
       "      <td>4294967295</td>\n",
       "      <td>2</td>\n",
       "      <td>0</td>\n",
       "      <td>3.106673e-12</td>\n",
       "      <td>3.106673e-12</td>\n",
       "      <td>NaN</td>\n",
       "      <td>NaN</td>\n",
       "      <td>NaN</td>\n",
       "      <td>NaN</td>\n",
       "      <td>False</td>\n",
       "    </tr>\n",
       "    <tr>\n",
       "      <th>1</th>\n",
       "      <td>1</td>\n",
       "      <td>4711</td>\n",
       "      <td>4294967295</td>\n",
       "      <td>4294967295</td>\n",
       "      <td>2</td>\n",
       "      <td>0</td>\n",
       "      <td>1.464257e-13</td>\n",
       "      <td>1.464257e-13</td>\n",
       "      <td>NaN</td>\n",
       "      <td>NaN</td>\n",
       "      <td>NaN</td>\n",
       "      <td>NaN</td>\n",
       "      <td>False</td>\n",
       "    </tr>\n",
       "    <tr>\n",
       "      <th>2</th>\n",
       "      <td>1</td>\n",
       "      <td>4712</td>\n",
       "      <td>4294967295</td>\n",
       "      <td>4294967295</td>\n",
       "      <td>2</td>\n",
       "      <td>0</td>\n",
       "      <td>8.955004e-13</td>\n",
       "      <td>8.955004e-13</td>\n",
       "      <td>NaN</td>\n",
       "      <td>NaN</td>\n",
       "      <td>NaN</td>\n",
       "      <td>NaN</td>\n",
       "      <td>False</td>\n",
       "    </tr>\n",
       "    <tr>\n",
       "      <th>3</th>\n",
       "      <td>1</td>\n",
       "      <td>4713</td>\n",
       "      <td>4294967295</td>\n",
       "      <td>4294967295</td>\n",
       "      <td>2</td>\n",
       "      <td>0</td>\n",
       "      <td>1.390754e-11</td>\n",
       "      <td>1.390754e-11</td>\n",
       "      <td>NaN</td>\n",
       "      <td>NaN</td>\n",
       "      <td>NaN</td>\n",
       "      <td>NaN</td>\n",
       "      <td>False</td>\n",
       "    </tr>\n",
       "    <tr>\n",
       "      <th>4</th>\n",
       "      <td>1</td>\n",
       "      <td>4714</td>\n",
       "      <td>4294967295</td>\n",
       "      <td>4294967295</td>\n",
       "      <td>2</td>\n",
       "      <td>0</td>\n",
       "      <td>1.439336e-13</td>\n",
       "      <td>1.439336e-13</td>\n",
       "      <td>NaN</td>\n",
       "      <td>NaN</td>\n",
       "      <td>NaN</td>\n",
       "      <td>NaN</td>\n",
       "      <td>False</td>\n",
       "    </tr>\n",
       "  </tbody>\n",
       "</table>\n",
       "</div>"
      ],
      "text/plain": [
       "   input  output         row         col  type  uncertainty_type   \n",
       "0      1    4710  4294967295  4294967295     2                 0  \\\n",
       "1      1    4711  4294967295  4294967295     2                 0   \n",
       "2      1    4712  4294967295  4294967295     2                 0   \n",
       "3      1    4713  4294967295  4294967295     2                 0   \n",
       "4      1    4714  4294967295  4294967295     2                 0   \n",
       "\n",
       "         amount           loc  scale  shape  minimum  maximum  negative  \n",
       "0  3.106673e-12  3.106673e-12    NaN    NaN      NaN      NaN     False  \n",
       "1  1.464257e-13  1.464257e-13    NaN    NaN      NaN      NaN     False  \n",
       "2  8.955004e-13  8.955004e-13    NaN    NaN      NaN      NaN     False  \n",
       "3  1.390754e-11  1.390754e-11    NaN    NaN      NaN      NaN     False  \n",
       "4  1.439336e-13  1.439336e-13    NaN    NaN      NaN      NaN     False  "
      ]
     },
     "execution_count": 7,
     "metadata": {},
     "output_type": "execute_result"
    },
    {
     "data": {
      "application/javascript": [
       "\n",
       "            setTimeout(function() {\n",
       "                var nbb_cell_id = 7;\n",
       "                var nbb_unformatted_code = \"structured_array = np.load(eidb.filepath_processed())\\npd.DataFrame(structured_array).head()\";\n",
       "                var nbb_formatted_code = \"structured_array = np.load(eidb.filepath_processed())\\npd.DataFrame(structured_array).head()\";\n",
       "                var nbb_cells = Jupyter.notebook.get_cells();\n",
       "                for (var i = 0; i < nbb_cells.length; ++i) {\n",
       "                    if (nbb_cells[i].input_prompt_number == nbb_cell_id) {\n",
       "                        if (nbb_cells[i].get_text() == nbb_unformatted_code) {\n",
       "                             nbb_cells[i].set_text(nbb_formatted_code);\n",
       "                        }\n",
       "                        break;\n",
       "                    }\n",
       "                }\n",
       "            }, 500);\n",
       "            "
      ],
      "text/plain": [
       "<IPython.core.display.Javascript object>"
      ]
     },
     "metadata": {},
     "output_type": "display_data"
    }
   ],
   "source": [
    "structured_array = np.load(eidb.filepath_processed())\n",
    "pd.DataFrame(structured_array).head()"
   ]
  },
  {
   "cell_type": "code",
   "execution_count": 8,
   "metadata": {},
   "outputs": [
    {
     "data": {
      "text/plain": [
       "biosphere3  38a622c6-f086-4763-a952-7c6b3b1c42ba    1\n",
       "            541a823c-0aad-4dc4-9123-d4af4647d942    2\n",
       "            8cbaa905-41b0-4327-8403-bf1c8eb25429    3\n",
       "            f681eb3c-854a-4f78-bcfe-76dfbcf9df3c    4\n",
       "            a0fec60d-3f74-48bf-a2d2-58c30fc13e53    5\n",
       "dtype: int64"
      ]
     },
     "execution_count": 8,
     "metadata": {},
     "output_type": "execute_result"
    },
    {
     "data": {
      "application/javascript": [
       "\n",
       "            setTimeout(function() {\n",
       "                var nbb_cell_id = 8;\n",
       "                var nbb_unformatted_code = \"pd.Series(bw.mapping).head()\";\n",
       "                var nbb_formatted_code = \"pd.Series(bw.mapping).head()\";\n",
       "                var nbb_cells = Jupyter.notebook.get_cells();\n",
       "                for (var i = 0; i < nbb_cells.length; ++i) {\n",
       "                    if (nbb_cells[i].input_prompt_number == nbb_cell_id) {\n",
       "                        if (nbb_cells[i].get_text() == nbb_unformatted_code) {\n",
       "                             nbb_cells[i].set_text(nbb_formatted_code);\n",
       "                        }\n",
       "                        break;\n",
       "                    }\n",
       "                }\n",
       "            }, 500);\n",
       "            "
      ],
      "text/plain": [
       "<IPython.core.display.Javascript object>"
      ]
     },
     "metadata": {},
     "output_type": "display_data"
    }
   ],
   "source": [
    "pd.Series(bw.mapping).head()"
   ]
  },
  {
   "cell_type": "code",
   "execution_count": 9,
   "metadata": {},
   "outputs": [
    {
     "data": {
      "text/plain": [
       "{'overwrite': False,\n",
       " 'format': 'Ecoinvent XML',\n",
       " 'depends': ['biosphere3'],\n",
       " 'backend': 'sqlite',\n",
       " 'number': 19565,\n",
       " 'modified': '2022-12-25T19:46:47.325940',\n",
       " 'searchable': True,\n",
       " 'processed': '2022-12-25T21:31:59.327002'}"
      ]
     },
     "execution_count": 9,
     "metadata": {},
     "output_type": "execute_result"
    },
    {
     "data": {
      "application/javascript": [
       "\n",
       "            setTimeout(function() {\n",
       "                var nbb_cell_id = 9;\n",
       "                var nbb_unformatted_code = \"eidb.metadata  # \\u6570\\u636e\\u5e93\\u7c7b\\u578b\";\n",
       "                var nbb_formatted_code = \"eidb.metadata  # \\u6570\\u636e\\u5e93\\u7c7b\\u578b\";\n",
       "                var nbb_cells = Jupyter.notebook.get_cells();\n",
       "                for (var i = 0; i < nbb_cells.length; ++i) {\n",
       "                    if (nbb_cells[i].input_prompt_number == nbb_cell_id) {\n",
       "                        if (nbb_cells[i].get_text() == nbb_unformatted_code) {\n",
       "                             nbb_cells[i].set_text(nbb_formatted_code);\n",
       "                        }\n",
       "                        break;\n",
       "                    }\n",
       "                }\n",
       "            }, 500);\n",
       "            "
      ],
      "text/plain": [
       "<IPython.core.display.Javascript object>"
      ]
     },
     "metadata": {},
     "output_type": "display_data"
    }
   ],
   "source": [
    "eidb.metadata  # 数据库类型"
   ]
  },
  {
   "cell_type": "markdown",
   "metadata": {},
   "source": [
    "# Setup Foreground Database "
   ]
  },
  {
   "cell_type": "code",
   "execution_count": 10,
   "metadata": {},
   "outputs": [
    {
     "name": "stdout",
     "output_type": "stream",
     "text": [
      "Extracted 1 worksheets in 0.02 seconds\n",
      "Applying strategy: link_iterable_by_fields\n"
     ]
    },
    {
     "name": "stderr",
     "output_type": "stream",
     "text": [
      "Writing activities to SQLite3 database:\n"
     ]
    },
    {
     "name": "stdout",
     "output_type": "stream",
     "text": [
      "1 datasets\n",
      "1 exchanges\n",
      "0 unlinked exchanges\n",
      "  \n",
      "Wrote matching file to:\n",
      "C:\\Users\\summer\\AppData\\Local\\pylca\\Brightway3\\Ammonia.454b2d1311d3cfbe8c10a38c923bf0c5\\output\\db-matching-hard-coal.xlsx\n"
     ]
    },
    {
     "name": "stderr",
     "output_type": "stream",
     "text": [
      "0% [#] 100% | ETA: 00:00:00\n",
      "Total time elapsed: 00:00:00\n"
     ]
    },
    {
     "name": "stdout",
     "output_type": "stream",
     "text": [
      "Title: Writing activities to SQLite3 database:\n",
      "  Started: 08/28/2023 13:42:04\n",
      "  Finished: 08/28/2023 13:42:04\n",
      "  Total time elapsed: 00:00:00\n",
      "  CPU %: 0.00\n",
      "  Memory %: 19.28\n",
      "Created database: hard coal\n"
     ]
    },
    {
     "data": {
      "application/javascript": [
       "\n",
       "            setTimeout(function() {\n",
       "                var nbb_cell_id = 10;\n",
       "                var nbb_unformatted_code = \"# Setup Foreground Database for CG\\nhard_coal = bw.ExcelImporter(\\n    r\\\"D:\\\\2 Master\\\\2 Paper\\\\2 Ammonia\\\\2 Python\\\\4 code\\\\1 data\\\\input\\\\hard coal.xlsx\\\"\\n)\\nhard_coal.apply_strategies(verbose=False)\\nhard_coal.match_database(\\\"EC\\\", fields=(\\\"name\\\", \\\"unit\\\", \\\"location\\\", \\\"code\\\"))\\nhard_coal.statistics()\\nhard_coal.write_excel()\\nhard_coal.write_database()\";\n",
       "                var nbb_formatted_code = \"# Setup Foreground Database for CG\\nhard_coal = bw.ExcelImporter(\\n    r\\\"D:\\\\2 Master\\\\2 Paper\\\\2 Ammonia\\\\2 Python\\\\4 code\\\\1 data\\\\input\\\\hard coal.xlsx\\\"\\n)\\nhard_coal.apply_strategies(verbose=False)\\nhard_coal.match_database(\\\"EC\\\", fields=(\\\"name\\\", \\\"unit\\\", \\\"location\\\", \\\"code\\\"))\\nhard_coal.statistics()\\nhard_coal.write_excel()\\nhard_coal.write_database()\";\n",
       "                var nbb_cells = Jupyter.notebook.get_cells();\n",
       "                for (var i = 0; i < nbb_cells.length; ++i) {\n",
       "                    if (nbb_cells[i].input_prompt_number == nbb_cell_id) {\n",
       "                        if (nbb_cells[i].get_text() == nbb_unformatted_code) {\n",
       "                             nbb_cells[i].set_text(nbb_formatted_code);\n",
       "                        }\n",
       "                        break;\n",
       "                    }\n",
       "                }\n",
       "            }, 500);\n",
       "            "
      ],
      "text/plain": [
       "<IPython.core.display.Javascript object>"
      ]
     },
     "metadata": {},
     "output_type": "display_data"
    }
   ],
   "source": [
    "# Setup Foreground Database for CG\n",
    "hard_coal = bw.ExcelImporter(\n",
    "    r\"D:\\2 Master\\2 Paper\\2 Ammonia\\2 Python\\4 code\\1 data\\input\\hard coal.xlsx\"\n",
    ")\n",
    "hard_coal.apply_strategies(verbose=False)\n",
    "hard_coal.match_database(\"EC\", fields=(\"name\", \"unit\", \"location\", \"code\"))\n",
    "hard_coal.statistics()\n",
    "hard_coal.write_excel()\n",
    "hard_coal.write_database()"
   ]
  },
  {
   "cell_type": "code",
   "execution_count": 28,
   "metadata": {},
   "outputs": [
    {
     "name": "stdout",
     "output_type": "stream",
     "text": [
      "Extracted 1 worksheets in 0.03 seconds\n",
      "Applying strategy: link_iterable_by_fields\n"
     ]
    },
    {
     "name": "stderr",
     "output_type": "stream",
     "text": [
      "Writing activities to SQLite3 database:\n"
     ]
    },
    {
     "name": "stdout",
     "output_type": "stream",
     "text": [
      "8 datasets\n",
      "26 exchanges\n",
      "0 unlinked exchanges\n",
      "  \n",
      "Wrote matching file to:\n",
      "C:\\Users\\summer\\AppData\\Local\\pylca\\Brightway3\\Ammonia.454b2d1311d3cfbe8c10a38c923bf0c5\\output\\db-matching-CG.xlsx\n"
     ]
    },
    {
     "name": "stderr",
     "output_type": "stream",
     "text": [
      "0% [########] 100% | ETA: 00:00:00\n",
      "Total time elapsed: 00:00:00\n"
     ]
    },
    {
     "name": "stdout",
     "output_type": "stream",
     "text": [
      "Title: Writing activities to SQLite3 database:\n",
      "  Started: 07/12/2023 20:41:05\n",
      "  Finished: 07/12/2023 20:41:05\n",
      "  Total time elapsed: 00:00:00\n",
      "  CPU %: 195.30\n",
      "  Memory %: 8.60\n",
      "Created database: CG\n"
     ]
    },
    {
     "data": {
      "application/javascript": [
       "\n",
       "            setTimeout(function() {\n",
       "                var nbb_cell_id = 28;\n",
       "                var nbb_unformatted_code = \"# Setup Foreground Database for SMR\\nCG = bw.ExcelImporter(\\n    r\\\"D:\\\\2 Master\\\\2 Paper\\\\2 Ammonia\\\\2 Python\\\\4 code\\\\1 data\\\\input\\\\CG_import.xlsx\\\"\\n)\\nCG.apply_strategies(verbose=False)\\nCG.match_database(\\\"EC\\\", fields=(\\\"name\\\", \\\"unit\\\", \\\"location\\\", \\\"code\\\"))\\nCG.statistics()\\nCG.write_excel()\\nCG.write_database()\";\n",
       "                var nbb_formatted_code = \"# Setup Foreground Database for SMR\\nCG = bw.ExcelImporter(\\n    r\\\"D:\\\\2 Master\\\\2 Paper\\\\2 Ammonia\\\\2 Python\\\\4 code\\\\1 data\\\\input\\\\CG_import.xlsx\\\"\\n)\\nCG.apply_strategies(verbose=False)\\nCG.match_database(\\\"EC\\\", fields=(\\\"name\\\", \\\"unit\\\", \\\"location\\\", \\\"code\\\"))\\nCG.statistics()\\nCG.write_excel()\\nCG.write_database()\";\n",
       "                var nbb_cells = Jupyter.notebook.get_cells();\n",
       "                for (var i = 0; i < nbb_cells.length; ++i) {\n",
       "                    if (nbb_cells[i].input_prompt_number == nbb_cell_id) {\n",
       "                        if (nbb_cells[i].get_text() == nbb_unformatted_code) {\n",
       "                             nbb_cells[i].set_text(nbb_formatted_code);\n",
       "                        }\n",
       "                        break;\n",
       "                    }\n",
       "                }\n",
       "            }, 500);\n",
       "            "
      ],
      "text/plain": [
       "<IPython.core.display.Javascript object>"
      ]
     },
     "metadata": {},
     "output_type": "display_data"
    }
   ],
   "source": [
    "# Setup Foreground Database for CG\n",
    "CG = bw.ExcelImporter(\n",
    "    r\"D:\\2 Master\\2 Paper\\2 Ammonia\\2 Python\\4 code\\1 data\\input\\CG_import.xlsx\"\n",
    ")\n",
    "CG.apply_strategies(verbose=False)\n",
    "CG.match_database(\"EC\", fields=(\"name\", \"unit\", \"location\", \"code\"))\n",
    "CG.statistics()\n",
    "CG.write_excel()\n",
    "CG.write_database()"
   ]
  },
  {
   "cell_type": "code",
   "execution_count": 29,
   "metadata": {},
   "outputs": [
    {
     "name": "stdout",
     "output_type": "stream",
     "text": [
      "Extracted 1 worksheets in 0.03 seconds\n",
      "Applying strategy: link_iterable_by_fields\n"
     ]
    },
    {
     "name": "stderr",
     "output_type": "stream",
     "text": [
      "Writing activities to SQLite3 database:\n"
     ]
    },
    {
     "name": "stdout",
     "output_type": "stream",
     "text": [
      "10 datasets\n",
      "50 exchanges\n",
      "0 unlinked exchanges\n",
      "  \n",
      "Wrote matching file to:\n",
      "C:\\Users\\summer\\AppData\\Local\\pylca\\Brightway3\\Ammonia.454b2d1311d3cfbe8c10a38c923bf0c5\\output\\db-matching-CG-CCS.xlsx\n"
     ]
    },
    {
     "name": "stderr",
     "output_type": "stream",
     "text": [
      "0% [##########] 100% | ETA: 00:00:00\n",
      "Total time elapsed: 00:00:00\n"
     ]
    },
    {
     "name": "stdout",
     "output_type": "stream",
     "text": [
      "Title: Writing activities to SQLite3 database:\n",
      "  Started: 07/12/2023 20:41:28\n",
      "  Finished: 07/12/2023 20:41:28\n",
      "  Total time elapsed: 00:00:00\n",
      "  CPU %: 0.00\n",
      "  Memory %: 8.65\n",
      "Created database: CG CCS\n"
     ]
    },
    {
     "data": {
      "application/javascript": [
       "\n",
       "            setTimeout(function() {\n",
       "                var nbb_cell_id = 29;\n",
       "                var nbb_unformatted_code = \"# Setup Foreground Database for SMR\\nCG_CCS = bw.ExcelImporter(\\n    r\\\"D:\\\\2 Master\\\\2 Paper\\\\2 Ammonia\\\\2 Python\\\\4 code\\\\1 data\\\\input\\\\CG_CCS_import.xlsx\\\"\\n)\\nCG_CCS.apply_strategies(verbose=False)\\nCG_CCS.match_database(\\\"EC\\\", fields=(\\\"name\\\", \\\"unit\\\", \\\"location\\\", \\\"code\\\"))\\nCG_CCS.statistics()\\nCG_CCS.write_excel()\\nCG_CCS.write_database()\";\n",
       "                var nbb_formatted_code = \"# Setup Foreground Database for SMR\\nCG_CCS = bw.ExcelImporter(\\n    r\\\"D:\\\\2 Master\\\\2 Paper\\\\2 Ammonia\\\\2 Python\\\\4 code\\\\1 data\\\\input\\\\CG_CCS_import.xlsx\\\"\\n)\\nCG_CCS.apply_strategies(verbose=False)\\nCG_CCS.match_database(\\\"EC\\\", fields=(\\\"name\\\", \\\"unit\\\", \\\"location\\\", \\\"code\\\"))\\nCG_CCS.statistics()\\nCG_CCS.write_excel()\\nCG_CCS.write_database()\";\n",
       "                var nbb_cells = Jupyter.notebook.get_cells();\n",
       "                for (var i = 0; i < nbb_cells.length; ++i) {\n",
       "                    if (nbb_cells[i].input_prompt_number == nbb_cell_id) {\n",
       "                        if (nbb_cells[i].get_text() == nbb_unformatted_code) {\n",
       "                             nbb_cells[i].set_text(nbb_formatted_code);\n",
       "                        }\n",
       "                        break;\n",
       "                    }\n",
       "                }\n",
       "            }, 500);\n",
       "            "
      ],
      "text/plain": [
       "<IPython.core.display.Javascript object>"
      ]
     },
     "metadata": {},
     "output_type": "display_data"
    }
   ],
   "source": [
    "# Setup Foreground Database for CG_CCS\n",
    "CG_CCS = bw.ExcelImporter(\n",
    "    r\"D:\\2 Master\\2 Paper\\2 Ammonia\\2 Python\\4 code\\1 data\\input\\CG_CCS_import.xlsx\"\n",
    ")\n",
    "CG_CCS.apply_strategies(verbose=False)\n",
    "CG_CCS.match_database(\"EC\", fields=(\"name\", \"unit\", \"location\", \"code\"))\n",
    "CG_CCS.statistics()\n",
    "CG_CCS.write_excel()\n",
    "CG_CCS.write_database()"
   ]
  },
  {
   "cell_type": "code",
   "execution_count": 48,
   "metadata": {},
   "outputs": [
    {
     "name": "stdout",
     "output_type": "stream",
     "text": [
      "Extracted 1 worksheets in 0.04 seconds\n",
      "Applying strategy: link_iterable_by_fields\n"
     ]
    },
    {
     "name": "stderr",
     "output_type": "stream",
     "text": [
      "Writing activities to SQLite3 database:\n"
     ]
    },
    {
     "name": "stdout",
     "output_type": "stream",
     "text": [
      "15 datasets\n",
      "65 exchanges\n",
      "0 unlinked exchanges\n",
      "  \n",
      "Wrote matching file to:\n",
      "C:\\Users\\summer\\AppData\\Local\\pylca\\Brightway3\\Ammonia.454b2d1311d3cfbe8c10a38c923bf0c5\\output\\db-matching-SMR.xlsx\n"
     ]
    },
    {
     "name": "stderr",
     "output_type": "stream",
     "text": [
      "0% [###############] 100% | ETA: 00:00:00\n",
      "Total time elapsed: 00:00:00\n"
     ]
    },
    {
     "name": "stdout",
     "output_type": "stream",
     "text": [
      "Title: Writing activities to SQLite3 database:\n",
      "  Started: 07/12/2023 21:09:10\n",
      "  Finished: 07/12/2023 21:09:10\n",
      "  Total time elapsed: 00:00:00\n",
      "  CPU %: 195.30\n",
      "  Memory %: 8.10\n",
      "Created database: SMR\n"
     ]
    },
    {
     "data": {
      "application/javascript": [
       "\n",
       "            setTimeout(function() {\n",
       "                var nbb_cell_id = 48;\n",
       "                var nbb_unformatted_code = \"# Setup Foreground Database for SMR\\nSMR = bw.ExcelImporter(\\n    r\\\"D:\\\\2 Master\\\\2 Paper\\\\2 Ammonia\\\\2 Python\\\\4 code\\\\1 data\\\\input\\\\SMR_import.xlsx\\\"\\n)\\nSMR.apply_strategies(verbose=False)\\nSMR.match_database(\\\"EC\\\", fields=(\\\"name\\\", \\\"unit\\\", \\\"location\\\", \\\"code\\\"))\\nSMR.statistics()\\nSMR.write_excel()\\nSMR.write_database()\";\n",
       "                var nbb_formatted_code = \"# Setup Foreground Database for SMR\\nSMR = bw.ExcelImporter(\\n    r\\\"D:\\\\2 Master\\\\2 Paper\\\\2 Ammonia\\\\2 Python\\\\4 code\\\\1 data\\\\input\\\\SMR_import.xlsx\\\"\\n)\\nSMR.apply_strategies(verbose=False)\\nSMR.match_database(\\\"EC\\\", fields=(\\\"name\\\", \\\"unit\\\", \\\"location\\\", \\\"code\\\"))\\nSMR.statistics()\\nSMR.write_excel()\\nSMR.write_database()\";\n",
       "                var nbb_cells = Jupyter.notebook.get_cells();\n",
       "                for (var i = 0; i < nbb_cells.length; ++i) {\n",
       "                    if (nbb_cells[i].input_prompt_number == nbb_cell_id) {\n",
       "                        if (nbb_cells[i].get_text() == nbb_unformatted_code) {\n",
       "                             nbb_cells[i].set_text(nbb_formatted_code);\n",
       "                        }\n",
       "                        break;\n",
       "                    }\n",
       "                }\n",
       "            }, 500);\n",
       "            "
      ],
      "text/plain": [
       "<IPython.core.display.Javascript object>"
      ]
     },
     "metadata": {},
     "output_type": "display_data"
    }
   ],
   "source": [
    "# Setup Foreground Database for SMR\n",
    "SMR = bw.ExcelImporter(\n",
    "    r\"D:\\2 Master\\2 Paper\\2 Ammonia\\2 Python\\4 code\\1 data\\input\\SMR_import.xlsx\"\n",
    ")\n",
    "SMR.apply_strategies(verbose=False)\n",
    "SMR.match_database(\"EC\", fields=(\"name\", \"unit\", \"location\", \"code\"))\n",
    "SMR.statistics()\n",
    "SMR.write_excel()\n",
    "SMR.write_database()"
   ]
  },
  {
   "cell_type": "code",
   "execution_count": 49,
   "metadata": {},
   "outputs": [
    {
     "name": "stdout",
     "output_type": "stream",
     "text": [
      "Extracted 1 worksheets in 0.04 seconds\n",
      "Applying strategy: link_iterable_by_fields\n"
     ]
    },
    {
     "name": "stderr",
     "output_type": "stream",
     "text": [
      "Writing activities to SQLite3 database:\n"
     ]
    },
    {
     "name": "stdout",
     "output_type": "stream",
     "text": [
      "17 datasets\n",
      "91 exchanges\n",
      "0 unlinked exchanges\n",
      "  \n",
      "Wrote matching file to:\n",
      "C:\\Users\\summer\\AppData\\Local\\pylca\\Brightway3\\Ammonia.454b2d1311d3cfbe8c10a38c923bf0c5\\output\\db-matching-SMR-CCS.xlsx\n"
     ]
    },
    {
     "name": "stderr",
     "output_type": "stream",
     "text": [
      "0% [#################] 100% | ETA: 00:00:00\n",
      "Total time elapsed: 00:00:00\n"
     ]
    },
    {
     "name": "stdout",
     "output_type": "stream",
     "text": [
      "Title: Writing activities to SQLite3 database:\n",
      "  Started: 07/12/2023 21:09:34\n",
      "  Finished: 07/12/2023 21:09:34\n",
      "  Total time elapsed: 00:00:00\n",
      "  CPU %: 97.70\n",
      "  Memory %: 8.14\n",
      "Created database: SMR CCS\n"
     ]
    },
    {
     "data": {
      "application/javascript": [
       "\n",
       "            setTimeout(function() {\n",
       "                var nbb_cell_id = 49;\n",
       "                var nbb_unformatted_code = \"# Setup Foreground Database for SMR_CCS\\nSMR_CCS = bw.ExcelImporter(\\n    r\\\"D:\\\\2 Master\\\\2 Paper\\\\2 Ammonia\\\\2 Python\\\\4 code\\\\1 data\\\\input\\\\SMR_CCS_import.xlsx\\\"\\n)\\nSMR_CCS.apply_strategies(verbose=False)\\nSMR_CCS.match_database(\\\"EC\\\", fields=(\\\"name\\\", \\\"unit\\\", \\\"location\\\", \\\"code\\\"))\\nSMR_CCS.statistics()\\nSMR_CCS.write_excel()\\nSMR_CCS.write_database()\";\n",
       "                var nbb_formatted_code = \"# Setup Foreground Database for SMR_CCS\\nSMR_CCS = bw.ExcelImporter(\\n    r\\\"D:\\\\2 Master\\\\2 Paper\\\\2 Ammonia\\\\2 Python\\\\4 code\\\\1 data\\\\input\\\\SMR_CCS_import.xlsx\\\"\\n)\\nSMR_CCS.apply_strategies(verbose=False)\\nSMR_CCS.match_database(\\\"EC\\\", fields=(\\\"name\\\", \\\"unit\\\", \\\"location\\\", \\\"code\\\"))\\nSMR_CCS.statistics()\\nSMR_CCS.write_excel()\\nSMR_CCS.write_database()\";\n",
       "                var nbb_cells = Jupyter.notebook.get_cells();\n",
       "                for (var i = 0; i < nbb_cells.length; ++i) {\n",
       "                    if (nbb_cells[i].input_prompt_number == nbb_cell_id) {\n",
       "                        if (nbb_cells[i].get_text() == nbb_unformatted_code) {\n",
       "                             nbb_cells[i].set_text(nbb_formatted_code);\n",
       "                        }\n",
       "                        break;\n",
       "                    }\n",
       "                }\n",
       "            }, 500);\n",
       "            "
      ],
      "text/plain": [
       "<IPython.core.display.Javascript object>"
      ]
     },
     "metadata": {},
     "output_type": "display_data"
    }
   ],
   "source": [
    "# Setup Foreground Database for SMR_CCS\n",
    "SMR_CCS = bw.ExcelImporter(\n",
    "    r\"D:\\2 Master\\2 Paper\\2 Ammonia\\2 Python\\4 code\\1 data\\input\\SMR_CCS_import.xlsx\"\n",
    ")\n",
    "SMR_CCS.apply_strategies(verbose=False)\n",
    "SMR_CCS.match_database(\"EC\", fields=(\"name\", \"unit\", \"location\", \"code\"))\n",
    "SMR_CCS.statistics()\n",
    "SMR_CCS.write_excel()\n",
    "SMR_CCS.write_database()"
   ]
  },
  {
   "cell_type": "code",
   "execution_count": 66,
   "metadata": {},
   "outputs": [
    {
     "name": "stdout",
     "output_type": "stream",
     "text": [
      "Extracted 1 worksheets in 0.03 seconds\n",
      "Extracted 1 worksheets in 0.02 seconds\n",
      "Applying strategy: link_iterable_by_fields\n"
     ]
    },
    {
     "name": "stderr",
     "output_type": "stream",
     "text": [
      "Writing activities to SQLite3 database:\n"
     ]
    },
    {
     "name": "stdout",
     "output_type": "stream",
     "text": [
      "10 datasets\n",
      "52 exchanges\n",
      "0 unlinked exchanges\n",
      "  \n",
      "Wrote matching file to:\n",
      "C:\\Users\\summer\\AppData\\Local\\pylca\\Brightway3\\Ammonia.454b2d1311d3cfbe8c10a38c923bf0c5\\output\\db-matching-AWE-Wind.xlsx\n"
     ]
    },
    {
     "name": "stderr",
     "output_type": "stream",
     "text": [
      "0% [##########] 100% | ETA: 00:00:00\n",
      "Total time elapsed: 00:00:00\n"
     ]
    },
    {
     "name": "stdout",
     "output_type": "stream",
     "text": [
      "Title: Writing activities to SQLite3 database:\n",
      "  Started: 07/02/2023 14:47:16\n",
      "  Finished: 07/02/2023 14:47:16\n",
      "  Total time elapsed: 00:00:00\n",
      "  CPU %: 97.70\n",
      "  Memory %: 19.78\n",
      "Created database: AWE Wind\n",
      "Applying strategy: link_iterable_by_fields\n"
     ]
    },
    {
     "name": "stderr",
     "output_type": "stream",
     "text": [
      "Writing activities to SQLite3 database:\n"
     ]
    },
    {
     "name": "stdout",
     "output_type": "stream",
     "text": [
      "10 datasets\n",
      "52 exchanges\n",
      "0 unlinked exchanges\n",
      "  \n",
      "Wrote matching file to:\n",
      "C:\\Users\\summer\\AppData\\Local\\pylca\\Brightway3\\Ammonia.454b2d1311d3cfbe8c10a38c923bf0c5\\output\\db-matching-AWE-PV.xlsx\n"
     ]
    },
    {
     "name": "stderr",
     "output_type": "stream",
     "text": [
      "0% [##########] 100% | ETA: 00:00:00\n",
      "Total time elapsed: 00:00:00\n"
     ]
    },
    {
     "name": "stdout",
     "output_type": "stream",
     "text": [
      "Title: Writing activities to SQLite3 database:\n",
      "  Started: 07/02/2023 14:47:39\n",
      "  Finished: 07/02/2023 14:47:39\n",
      "  Total time elapsed: 00:00:00\n",
      "  CPU %: 97.70\n",
      "  Memory %: 19.80\n",
      "Created database: AWE PV\n"
     ]
    },
    {
     "data": {
      "application/javascript": [
       "\n",
       "            setTimeout(function() {\n",
       "                var nbb_cell_id = 66;\n",
       "                var nbb_unformatted_code = \"# Setup Foreground Database for green ammonia\\n# AEM_Wind\\nAWE_Wind = bw.ExcelImporter(\\n    r\\\"D:\\\\2 Master\\\\2 Paper\\\\2 Ammonia\\\\2 Python\\\\4 code\\\\1 data\\\\input\\\\AWE_Wind_import.xlsx\\\"\\n)\\n\\n# AEM_PV\\nAWE_PV = bw.ExcelImporter(\\n    r\\\"D:\\\\2 Master\\\\2 Paper\\\\2 Ammonia\\\\2 Python\\\\4 code\\\\1 data\\\\input\\\\AWE_PV_import.xlsx\\\"\\n)\\n\\nGreen_databases = [AWE_Wind, AWE_PV]\\n\\nfor database in Green_databases:\\n    database.apply_strategies(verbose=False)\\n    database.match_database(\\\"EC\\\", fields=(\\\"name\\\", \\\"unit\\\", \\\"location\\\", \\\"code\\\"))\\n    database.statistics()\\n    database.write_excel()\\n    database.write_database(verbose=False)\";\n",
       "                var nbb_formatted_code = \"# Setup Foreground Database for green ammonia\\n# AEM_Wind\\nAWE_Wind = bw.ExcelImporter(\\n    r\\\"D:\\\\2 Master\\\\2 Paper\\\\2 Ammonia\\\\2 Python\\\\4 code\\\\1 data\\\\input\\\\AWE_Wind_import.xlsx\\\"\\n)\\n\\n# AEM_PV\\nAWE_PV = bw.ExcelImporter(\\n    r\\\"D:\\\\2 Master\\\\2 Paper\\\\2 Ammonia\\\\2 Python\\\\4 code\\\\1 data\\\\input\\\\AWE_PV_import.xlsx\\\"\\n)\\n\\nGreen_databases = [AWE_Wind, AWE_PV]\\n\\nfor database in Green_databases:\\n    database.apply_strategies(verbose=False)\\n    database.match_database(\\\"EC\\\", fields=(\\\"name\\\", \\\"unit\\\", \\\"location\\\", \\\"code\\\"))\\n    database.statistics()\\n    database.write_excel()\\n    database.write_database(verbose=False)\";\n",
       "                var nbb_cells = Jupyter.notebook.get_cells();\n",
       "                for (var i = 0; i < nbb_cells.length; ++i) {\n",
       "                    if (nbb_cells[i].input_prompt_number == nbb_cell_id) {\n",
       "                        if (nbb_cells[i].get_text() == nbb_unformatted_code) {\n",
       "                             nbb_cells[i].set_text(nbb_formatted_code);\n",
       "                        }\n",
       "                        break;\n",
       "                    }\n",
       "                }\n",
       "            }, 500);\n",
       "            "
      ],
      "text/plain": [
       "<IPython.core.display.Javascript object>"
      ]
     },
     "metadata": {},
     "output_type": "display_data"
    }
   ],
   "source": [
    "# Setup Foreground Database for green ammonia\n",
    "# AEM_Wind\n",
    "AWE_Wind = bw.ExcelImporter(\n",
    "    r\"D:\\2 Master\\2 Paper\\2 Ammonia\\2 Python\\4 code\\1 data\\input\\AWE_Wind_import.xlsx\"\n",
    ")\n",
    "\n",
    "# AEM_PV\n",
    "AWE_PV = bw.ExcelImporter(\n",
    "    r\"D:\\2 Master\\2 Paper\\2 Ammonia\\2 Python\\4 code\\1 data\\input\\AWE_PV_import.xlsx\"\n",
    ")\n",
    "\n",
    "Green_databases = [AWE_Wind, AWE_PV]\n",
    "\n",
    "for database in Green_databases:\n",
    "    database.apply_strategies(verbose=False)\n",
    "    database.match_database(\"EC\", fields=(\"name\", \"unit\", \"location\", \"code\"))\n",
    "    database.statistics()\n",
    "    database.write_excel()\n",
    "    database.write_database(verbose=False)"
   ]
  },
  {
   "cell_type": "code",
   "execution_count": 30,
   "metadata": {},
   "outputs": [
    {
     "data": {
      "text/plain": [
       "Databases dictionary with 8 object(s):\n",
       "\tAWE PV\n",
       "\tAWE Wind\n",
       "\tCG\n",
       "\tCG CCS\n",
       "\tEC\n",
       "\tSMR\n",
       "\tSMR CCS\n",
       "\tbiosphere3"
      ]
     },
     "execution_count": 30,
     "metadata": {},
     "output_type": "execute_result"
    },
    {
     "data": {
      "application/javascript": [
       "\n",
       "            setTimeout(function() {\n",
       "                var nbb_cell_id = 30;\n",
       "                var nbb_unformatted_code = \"bw.databases\";\n",
       "                var nbb_formatted_code = \"bw.databases\";\n",
       "                var nbb_cells = Jupyter.notebook.get_cells();\n",
       "                for (var i = 0; i < nbb_cells.length; ++i) {\n",
       "                    if (nbb_cells[i].input_prompt_number == nbb_cell_id) {\n",
       "                        if (nbb_cells[i].get_text() == nbb_unformatted_code) {\n",
       "                             nbb_cells[i].set_text(nbb_formatted_code);\n",
       "                        }\n",
       "                        break;\n",
       "                    }\n",
       "                }\n",
       "            }, 500);\n",
       "            "
      ],
      "text/plain": [
       "<IPython.core.display.Javascript object>"
      ]
     },
     "metadata": {},
     "output_type": "display_data"
    }
   ],
   "source": [
    "bw.databases"
   ]
  },
  {
   "cell_type": "code",
   "execution_count": 10,
   "metadata": {},
   "outputs": [
    {
     "data": {
      "application/javascript": [
       "\n",
       "            setTimeout(function() {\n",
       "                var nbb_cell_id = 10;\n",
       "                var nbb_unformatted_code = \"# instantiate database object\\n# databases for grey and blue ammonia\\nCG_import = bw.Database(\\\"CG\\\")\\nCG_CCS_import = bw.Database(\\\"CG CCS\\\")\\nSMR_import = bw.Database(\\\"SMR\\\")\\nSMR_CCS_import = bw.Database(\\\"SMR CCS\\\")\\n\\n# databases for green ammonia\\nAWE_Wind_import = bw.Database(\\\"AWE Wind\\\")\\nAWE_PV_import = bw.Database(\\\"AWE PV\\\")\";\n",
       "                var nbb_formatted_code = \"# instantiate database object\\n# databases for grey and blue ammonia\\nCG_import = bw.Database(\\\"CG\\\")\\nCG_CCS_import = bw.Database(\\\"CG CCS\\\")\\nSMR_import = bw.Database(\\\"SMR\\\")\\nSMR_CCS_import = bw.Database(\\\"SMR CCS\\\")\\n\\n# databases for green ammonia\\nAWE_Wind_import = bw.Database(\\\"AWE Wind\\\")\\nAWE_PV_import = bw.Database(\\\"AWE PV\\\")\";\n",
       "                var nbb_cells = Jupyter.notebook.get_cells();\n",
       "                for (var i = 0; i < nbb_cells.length; ++i) {\n",
       "                    if (nbb_cells[i].input_prompt_number == nbb_cell_id) {\n",
       "                        if (nbb_cells[i].get_text() == nbb_unformatted_code) {\n",
       "                             nbb_cells[i].set_text(nbb_formatted_code);\n",
       "                        }\n",
       "                        break;\n",
       "                    }\n",
       "                }\n",
       "            }, 500);\n",
       "            "
      ],
      "text/plain": [
       "<IPython.core.display.Javascript object>"
      ]
     },
     "metadata": {},
     "output_type": "display_data"
    }
   ],
   "source": [
    "# instantiate database object\n",
    "# databases for grey and blue ammonia\n",
    "CG_import = bw.Database(\"CG\")\n",
    "CG_CCS_import = bw.Database(\"CG CCS\")\n",
    "SMR_import = bw.Database(\"SMR\")\n",
    "SMR_CCS_import = bw.Database(\"SMR CCS\")\n",
    "\n",
    "# databases for green ammonia\n",
    "AWE_Wind_import = bw.Database(\"AWE Wind\")\n",
    "AWE_PV_import = bw.Database(\"AWE PV\")"
   ]
  },
  {
   "cell_type": "code",
   "execution_count": 13,
   "metadata": {},
   "outputs": [
    {
     "data": {
      "text/plain": [
       "['hard coal' (pcs, CN, None)]"
      ]
     },
     "execution_count": 13,
     "metadata": {},
     "output_type": "execute_result"
    },
    {
     "data": {
      "application/javascript": [
       "\n",
       "            setTimeout(function() {\n",
       "                var nbb_cell_id = 13;\n",
       "                var nbb_unformatted_code = \"list(hard_coal_import)\";\n",
       "                var nbb_formatted_code = \"list(hard_coal_import)\";\n",
       "                var nbb_cells = Jupyter.notebook.get_cells();\n",
       "                for (var i = 0; i < nbb_cells.length; ++i) {\n",
       "                    if (nbb_cells[i].input_prompt_number == nbb_cell_id) {\n",
       "                        if (nbb_cells[i].get_text() == nbb_unformatted_code) {\n",
       "                             nbb_cells[i].set_text(nbb_formatted_code);\n",
       "                        }\n",
       "                        break;\n",
       "                    }\n",
       "                }\n",
       "            }, 500);\n",
       "            "
      ],
      "text/plain": [
       "<IPython.core.display.Javascript object>"
      ]
     },
     "metadata": {},
     "output_type": "display_data"
    }
   ],
   "source": [
    "list(hard_coal_import)"
   ]
  },
  {
   "cell_type": "markdown",
   "metadata": {},
   "source": [
    "# Setup LCA Calc "
   ]
  },
  {
   "cell_type": "markdown",
   "metadata": {},
   "source": [
    "## Setup functional unit "
   ]
  },
  {
   "cell_type": "code",
   "execution_count": 14,
   "metadata": {},
   "outputs": [
    {
     "data": {
      "application/javascript": [
       "\n",
       "            setTimeout(function() {\n",
       "                var nbb_cell_id = 14;\n",
       "                var nbb_unformatted_code = \"# find activity name\\ndef find_by_name(name_ls, database):\\n    possibles = []\\n    for activity in database:\\n        if activity[\\\"name\\\"] in name_ls:\\n            possibles.append(activity)\\n        else:\\n            pass\\n\\n    return possibles\";\n",
       "                var nbb_formatted_code = \"# find activity name\\ndef find_by_name(name_ls, database):\\n    possibles = []\\n    for activity in database:\\n        if activity[\\\"name\\\"] in name_ls:\\n            possibles.append(activity)\\n        else:\\n            pass\\n\\n    return possibles\";\n",
       "                var nbb_cells = Jupyter.notebook.get_cells();\n",
       "                for (var i = 0; i < nbb_cells.length; ++i) {\n",
       "                    if (nbb_cells[i].input_prompt_number == nbb_cell_id) {\n",
       "                        if (nbb_cells[i].get_text() == nbb_unformatted_code) {\n",
       "                             nbb_cells[i].set_text(nbb_formatted_code);\n",
       "                        }\n",
       "                        break;\n",
       "                    }\n",
       "                }\n",
       "            }, 500);\n",
       "            "
      ],
      "text/plain": [
       "<IPython.core.display.Javascript object>"
      ]
     },
     "metadata": {},
     "output_type": "display_data"
    }
   ],
   "source": [
    "# find activity name\n",
    "def find_by_name(name_ls, database):\n",
    "    possibles = []\n",
    "    for activity in database:\n",
    "        if activity[\"name\"] in name_ls:\n",
    "            possibles.append(activity)\n",
    "        else:\n",
    "            pass\n",
    "\n",
    "    return possibles"
   ]
  },
  {
   "cell_type": "code",
   "execution_count": 13,
   "metadata": {},
   "outputs": [
    {
     "data": {
      "application/javascript": [
       "\n",
       "            setTimeout(function() {\n",
       "                var nbb_cell_id = 13;\n",
       "                var nbb_unformatted_code = \"foreground_name = [\\n    \\\"manufacturing\\\",\\n    \\\"indirect emissions from electricity\\\",\\n    \\\"other indirect emissions\\\",\\n    \\\"direct emissions\\\",\\n    \\\"emissions captured by CCS\\\",\\n    \\\"waste treatment\\\",\\n]\";\n",
       "                var nbb_formatted_code = \"foreground_name = [\\n    \\\"manufacturing\\\",\\n    \\\"indirect emissions from electricity\\\",\\n    \\\"other indirect emissions\\\",\\n    \\\"direct emissions\\\",\\n    \\\"emissions captured by CCS\\\",\\n    \\\"waste treatment\\\",\\n]\";\n",
       "                var nbb_cells = Jupyter.notebook.get_cells();\n",
       "                for (var i = 0; i < nbb_cells.length; ++i) {\n",
       "                    if (nbb_cells[i].input_prompt_number == nbb_cell_id) {\n",
       "                        if (nbb_cells[i].get_text() == nbb_unformatted_code) {\n",
       "                             nbb_cells[i].set_text(nbb_formatted_code);\n",
       "                        }\n",
       "                        break;\n",
       "                    }\n",
       "                }\n",
       "            }, 500);\n",
       "            "
      ],
      "text/plain": [
       "<IPython.core.display.Javascript object>"
      ]
     },
     "metadata": {},
     "output_type": "display_data"
    }
   ],
   "source": [
    "foreground_name = [\n",
    "    \"manufacturing\",\n",
    "    \"indirect emissions from electricity\",\n",
    "    \"other indirect emissions\",\n",
    "    \"direct emissions\",\n",
    "    \"emissions captured by CCS\",\n",
    "    \"waste treatment\",\n",
    "]\n"
   ]
  },
  {
   "cell_type": "code",
   "execution_count": 14,
   "metadata": {},
   "outputs": [
    {
     "data": {
      "application/javascript": [
       "\n",
       "            setTimeout(function() {\n",
       "                var nbb_cell_id = 14;\n",
       "                var nbb_unformatted_code = \"def fu(database, foreground_name=foreground_name):\\n    foreground = find_by_name(foreground_name, database)\\n    fu_ls = [{foreground[x]: 1} for x in range(len(foreground))]\\n    return fu_ls\";\n",
       "                var nbb_formatted_code = \"def fu(database, foreground_name=foreground_name):\\n    foreground = find_by_name(foreground_name, database)\\n    fu_ls = [{foreground[x]: 1} for x in range(len(foreground))]\\n    return fu_ls\";\n",
       "                var nbb_cells = Jupyter.notebook.get_cells();\n",
       "                for (var i = 0; i < nbb_cells.length; ++i) {\n",
       "                    if (nbb_cells[i].input_prompt_number == nbb_cell_id) {\n",
       "                        if (nbb_cells[i].get_text() == nbb_unformatted_code) {\n",
       "                             nbb_cells[i].set_text(nbb_formatted_code);\n",
       "                        }\n",
       "                        break;\n",
       "                    }\n",
       "                }\n",
       "            }, 500);\n",
       "            "
      ],
      "text/plain": [
       "<IPython.core.display.Javascript object>"
      ]
     },
     "metadata": {},
     "output_type": "display_data"
    }
   ],
   "source": [
    "def fu(database, foreground_name=foreground_name):\n",
    "    foreground = find_by_name(foreground_name, database)\n",
    "    fu_ls = [{foreground[x]: 1} for x in range(len(foreground))]\n",
    "    return fu_ls"
   ]
  },
  {
   "cell_type": "code",
   "execution_count": 15,
   "metadata": {},
   "outputs": [
    {
     "data": {
      "application/javascript": [
       "\n",
       "            setTimeout(function() {\n",
       "                var nbb_cell_id = 15;\n",
       "                var nbb_unformatted_code = \"# create functional unit for ammonia: grey and blue ammonia\\nCG_FU = fu(database=CG_import)\\nCG_CCS_FU = fu(database=CG_CCS_import)\\nSMR_FU = fu(database=SMR_import)\\nSMR_CCS_FU = fu(database=SMR_CCS_import)\\n# create functional unit for ammonia: green ammonia\\nAWE_Wind_FU = fu(database=AWE_Wind_import, foreground_name=foreground_name)\\nAWE_PV_FU = fu(database=AWE_PV_import, foreground_name=foreground_name)\";\n",
       "                var nbb_formatted_code = \"# create functional unit for ammonia: grey and blue ammonia\\nCG_FU = fu(database=CG_import)\\nCG_CCS_FU = fu(database=CG_CCS_import)\\nSMR_FU = fu(database=SMR_import)\\nSMR_CCS_FU = fu(database=SMR_CCS_import)\\n# create functional unit for ammonia: green ammonia\\nAWE_Wind_FU = fu(database=AWE_Wind_import, foreground_name=foreground_name)\\nAWE_PV_FU = fu(database=AWE_PV_import, foreground_name=foreground_name)\";\n",
       "                var nbb_cells = Jupyter.notebook.get_cells();\n",
       "                for (var i = 0; i < nbb_cells.length; ++i) {\n",
       "                    if (nbb_cells[i].input_prompt_number == nbb_cell_id) {\n",
       "                        if (nbb_cells[i].get_text() == nbb_unformatted_code) {\n",
       "                             nbb_cells[i].set_text(nbb_formatted_code);\n",
       "                        }\n",
       "                        break;\n",
       "                    }\n",
       "                }\n",
       "            }, 500);\n",
       "            "
      ],
      "text/plain": [
       "<IPython.core.display.Javascript object>"
      ]
     },
     "metadata": {},
     "output_type": "display_data"
    }
   ],
   "source": [
    "# create functional unit for ammonia: grey and blue ammonia\n",
    "CG_FU = fu(database=CG_import)\n",
    "CG_CCS_FU = fu(database=CG_CCS_import)\n",
    "SMR_FU = fu(database=SMR_import)\n",
    "SMR_CCS_FU = fu(database=SMR_CCS_import)\n",
    "# create functional unit for ammonia: green ammonia\n",
    "AWE_Wind_FU = fu(database=AWE_Wind_import, foreground_name=foreground_name)\n",
    "AWE_PV_FU = fu(database=AWE_PV_import, foreground_name=foreground_name)"
   ]
  },
  {
   "cell_type": "markdown",
   "metadata": {},
   "source": [
    "## Setup LCIA "
   ]
  },
  {
   "cell_type": "code",
   "execution_count": 37,
   "metadata": {},
   "outputs": [
    {
     "data": {
      "text/plain": [
       "[('ReCiPe 2016 v1.03, midpoint (H)',\n",
       "  'acidification: terrestrial',\n",
       "  'terrestrial acidification potential (TAP)'),\n",
       " ('ReCiPe 2016 v1.03, midpoint (H)',\n",
       "  'climate change',\n",
       "  'global warming potential (GWP1000)'),\n",
       " ('ReCiPe 2016 v1.03, midpoint (H)',\n",
       "  'ecotoxicity: freshwater',\n",
       "  'freshwater ecotoxicity potential (FETP)'),\n",
       " ('ReCiPe 2016 v1.03, midpoint (H)',\n",
       "  'ecotoxicity: marine',\n",
       "  'marine ecotoxicity potential (METP)'),\n",
       " ('ReCiPe 2016 v1.03, midpoint (H)',\n",
       "  'ecotoxicity: terrestrial',\n",
       "  'terrestrial ecotoxicity potential (TETP)'),\n",
       " ('ReCiPe 2016 v1.03, midpoint (H)',\n",
       "  'energy resources: non-renewable, fossil',\n",
       "  'fossil fuel potential (FFP)'),\n",
       " ('ReCiPe 2016 v1.03, midpoint (H)',\n",
       "  'eutrophication: freshwater',\n",
       "  'freshwater eutrophication potential (FEP)'),\n",
       " ('ReCiPe 2016 v1.03, midpoint (H)',\n",
       "  'eutrophication: marine',\n",
       "  'marine eutrophication potential (MEP)'),\n",
       " ('ReCiPe 2016 v1.03, midpoint (H)',\n",
       "  'human toxicity: carcinogenic',\n",
       "  'human toxicity potential (HTPc)'),\n",
       " ('ReCiPe 2016 v1.03, midpoint (H)',\n",
       "  'human toxicity: non-carcinogenic',\n",
       "  'human toxicity potential (HTPnc)'),\n",
       " ('ReCiPe 2016 v1.03, midpoint (H)',\n",
       "  'ionising radiation',\n",
       "  'ionising radiation potential (IRP)'),\n",
       " ('ReCiPe 2016 v1.03, midpoint (H)',\n",
       "  'land use',\n",
       "  'agricultural land occupation (LOP)'),\n",
       " ('ReCiPe 2016 v1.03, midpoint (H)',\n",
       "  'material resources: metals/minerals',\n",
       "  'surplus ore potential (SOP)'),\n",
       " ('ReCiPe 2016 v1.03, midpoint (H)',\n",
       "  'ozone depletion',\n",
       "  'ozone depletion potential (ODPinfinite)'),\n",
       " ('ReCiPe 2016 v1.03, midpoint (H)',\n",
       "  'particulate matter formation',\n",
       "  'particulate matter formation potential (PMFP)'),\n",
       " ('ReCiPe 2016 v1.03, midpoint (H)',\n",
       "  'photochemical oxidant formation: human health',\n",
       "  'photochemical oxidant formation potential: humans (HOFP)'),\n",
       " ('ReCiPe 2016 v1.03, midpoint (H)',\n",
       "  'photochemical oxidant formation: terrestrial ecosystems',\n",
       "  'photochemical oxidant formation potential: ecosystems (EOFP)'),\n",
       " ('ReCiPe 2016 v1.03, midpoint (H)',\n",
       "  'water use',\n",
       "  'water consumption potential (WCP)')]"
      ]
     },
     "execution_count": 37,
     "metadata": {},
     "output_type": "execute_result"
    },
    {
     "data": {
      "application/javascript": [
       "\n",
       "            setTimeout(function() {\n",
       "                var nbb_cell_id = 37;\n",
       "                var nbb_unformatted_code = \"ReCiPe = [\\n    method\\n    for method in bw.methods\\n    if \\\"ReCiPe 2016 v1.03, midpoint (H)\\\" in str(method)\\n    and \\\"w/o LT\\\" not in str(method)\\n    and \\\"no LT\\\" not in str(method)\\n    and \\\"obsolete\\\" not in str(method)\\n]\\nReCiPe\";\n",
       "                var nbb_formatted_code = \"ReCiPe = [\\n    method\\n    for method in bw.methods\\n    if \\\"ReCiPe 2016 v1.03, midpoint (H)\\\" in str(method)\\n    and \\\"w/o LT\\\" not in str(method)\\n    and \\\"no LT\\\" not in str(method)\\n    and \\\"obsolete\\\" not in str(method)\\n]\\nReCiPe\";\n",
       "                var nbb_cells = Jupyter.notebook.get_cells();\n",
       "                for (var i = 0; i < nbb_cells.length; ++i) {\n",
       "                    if (nbb_cells[i].input_prompt_number == nbb_cell_id) {\n",
       "                        if (nbb_cells[i].get_text() == nbb_unformatted_code) {\n",
       "                             nbb_cells[i].set_text(nbb_formatted_code);\n",
       "                        }\n",
       "                        break;\n",
       "                    }\n",
       "                }\n",
       "            }, 500);\n",
       "            "
      ],
      "text/plain": [
       "<IPython.core.display.Javascript object>"
      ]
     },
     "metadata": {},
     "output_type": "display_data"
    }
   ],
   "source": [
    "ReCiPe = [\n",
    "    method\n",
    "    for method in bw.methods\n",
    "    if \"ReCiPe 2016 v1.03, midpoint (H)\" in str(method)\n",
    "    and \"w/o LT\" not in str(method)\n",
    "    and \"no LT\" not in str(method)\n",
    "    and \"obsolete\" not in str(method)\n",
    "]\n",
    "ReCiPe"
   ]
  },
  {
   "cell_type": "markdown",
   "metadata": {},
   "source": [
    "## Calc LCIA results "
   ]
  },
  {
   "cell_type": "code",
   "execution_count": 38,
   "metadata": {},
   "outputs": [
    {
     "data": {
      "application/javascript": [
       "\n",
       "            setTimeout(function() {\n",
       "                var nbb_cell_id = 38;\n",
       "                var nbb_unformatted_code = \"# setup FU and impact assessment method and calculate results\\ndef LCIA_results(FU_ls, ia=ReCiPe, index_ls=foreground_name):\\n    bw.calculation_setups[\\\"Ammonia_LCIA\\\"] = {\\\"inv\\\": FU_ls, \\\"ia\\\": ia}\\n    multi_LCA = bw.MultiLCA(\\\"Ammonia_LCIA\\\").results\\n    LCIA_results = pd.DataFrame(\\n        data=multi_LCA, columns=ia, index=[list(i.keys())[0][\\\"name\\\"] for i in FU_ls]\\n    )\\n    return LCIA_results\";\n",
       "                var nbb_formatted_code = \"# setup FU and impact assessment method and calculate results\\ndef LCIA_results(FU_ls, ia=ReCiPe, index_ls=foreground_name):\\n    bw.calculation_setups[\\\"Ammonia_LCIA\\\"] = {\\\"inv\\\": FU_ls, \\\"ia\\\": ia}\\n    multi_LCA = bw.MultiLCA(\\\"Ammonia_LCIA\\\").results\\n    LCIA_results = pd.DataFrame(\\n        data=multi_LCA, columns=ia, index=[list(i.keys())[0][\\\"name\\\"] for i in FU_ls]\\n    )\\n    return LCIA_results\";\n",
       "                var nbb_cells = Jupyter.notebook.get_cells();\n",
       "                for (var i = 0; i < nbb_cells.length; ++i) {\n",
       "                    if (nbb_cells[i].input_prompt_number == nbb_cell_id) {\n",
       "                        if (nbb_cells[i].get_text() == nbb_unformatted_code) {\n",
       "                             nbb_cells[i].set_text(nbb_formatted_code);\n",
       "                        }\n",
       "                        break;\n",
       "                    }\n",
       "                }\n",
       "            }, 500);\n",
       "            "
      ],
      "text/plain": [
       "<IPython.core.display.Javascript object>"
      ]
     },
     "metadata": {},
     "output_type": "display_data"
    }
   ],
   "source": [
    "# setup FU and impact assessment method and calculate results\n",
    "def LCIA_results(FU_ls, ia=ReCiPe, index_ls=foreground_name):\n",
    "    bw.calculation_setups[\"Ammonia_LCIA\"] = {\"inv\": FU_ls, \"ia\": ia}\n",
    "    multi_LCA = bw.MultiLCA(\"Ammonia_LCIA\").results\n",
    "    LCIA_results = pd.DataFrame(\n",
    "        data=multi_LCA, columns=ia, index=[list(i.keys())[0][\"name\"] for i in FU_ls]\n",
    "    )\n",
    "    return LCIA_results"
   ]
  },
  {
   "cell_type": "code",
   "execution_count": 40,
   "metadata": {},
   "outputs": [
    {
     "data": {
      "application/javascript": [
       "\n",
       "            setTimeout(function() {\n",
       "                var nbb_cell_id = 40;\n",
       "                var nbb_unformatted_code = \"# LCIA results\\nCG_LCIA_results = LCIA_results(CG_FU).reindex(foreground_name)\\nCG_CCS_LCIA_results = LCIA_results(CG_CCS_FU).reindex(foreground_name)\\nSMR_LCIA_results = LCIA_results(SMR_FU).reindex(foreground_name)\\nSMR_CCS_LCIA_results = LCIA_results(SMR_CCS_FU).reindex(foreground_name)\\n\\nAWE_Wind_LCIA_results = LCIA_results(AWE_Wind_FU).reindex(foreground_name)\\nAWE_PV_LCIA_results = LCIA_results(AWE_PV_FU).reindex(foreground_name)\";\n",
       "                var nbb_formatted_code = \"# LCIA results\\nCG_LCIA_results = LCIA_results(CG_FU).reindex(foreground_name)\\nCG_CCS_LCIA_results = LCIA_results(CG_CCS_FU).reindex(foreground_name)\\nSMR_LCIA_results = LCIA_results(SMR_FU).reindex(foreground_name)\\nSMR_CCS_LCIA_results = LCIA_results(SMR_CCS_FU).reindex(foreground_name)\\n\\nAWE_Wind_LCIA_results = LCIA_results(AWE_Wind_FU).reindex(foreground_name)\\nAWE_PV_LCIA_results = LCIA_results(AWE_PV_FU).reindex(foreground_name)\";\n",
       "                var nbb_cells = Jupyter.notebook.get_cells();\n",
       "                for (var i = 0; i < nbb_cells.length; ++i) {\n",
       "                    if (nbb_cells[i].input_prompt_number == nbb_cell_id) {\n",
       "                        if (nbb_cells[i].get_text() == nbb_unformatted_code) {\n",
       "                             nbb_cells[i].set_text(nbb_formatted_code);\n",
       "                        }\n",
       "                        break;\n",
       "                    }\n",
       "                }\n",
       "            }, 500);\n",
       "            "
      ],
      "text/plain": [
       "<IPython.core.display.Javascript object>"
      ]
     },
     "metadata": {},
     "output_type": "display_data"
    }
   ],
   "source": [
    "# LCIA results\n",
    "CG_LCIA_results = LCIA_results(CG_FU).reindex(foreground_name)\n",
    "CG_CCS_LCIA_results = LCIA_results(CG_CCS_FU).reindex(foreground_name)\n",
    "SMR_LCIA_results = LCIA_results(SMR_FU).reindex(foreground_name)\n",
    "SMR_CCS_LCIA_results = LCIA_results(SMR_CCS_FU).reindex(foreground_name)\n",
    "\n",
    "AWE_Wind_LCIA_results = LCIA_results(AWE_Wind_FU).reindex(foreground_name)\n",
    "AWE_PV_LCIA_results = LCIA_results(AWE_PV_FU).reindex(foreground_name)"
   ]
  },
  {
   "cell_type": "code",
   "execution_count": 42,
   "metadata": {},
   "outputs": [
    {
     "data": {
      "text/html": [
       "<div>\n",
       "<style scoped>\n",
       "    .dataframe tbody tr th:only-of-type {\n",
       "        vertical-align: middle;\n",
       "    }\n",
       "\n",
       "    .dataframe tbody tr th {\n",
       "        vertical-align: top;\n",
       "    }\n",
       "\n",
       "    .dataframe thead th {\n",
       "        text-align: right;\n",
       "    }\n",
       "</style>\n",
       "<table border=\"1\" class=\"dataframe\">\n",
       "  <thead>\n",
       "    <tr style=\"text-align: right;\">\n",
       "      <th></th>\n",
       "      <th>CG</th>\n",
       "      <th>SMR</th>\n",
       "      <th>CG+CCS</th>\n",
       "      <th>SMR+CCS</th>\n",
       "      <th>PV</th>\n",
       "      <th>Wind</th>\n",
       "    </tr>\n",
       "  </thead>\n",
       "  <tbody>\n",
       "    <tr>\n",
       "      <th>manufacturing</th>\n",
       "      <td>0.014644</td>\n",
       "      <td>0.014644</td>\n",
       "      <td>0.026976</td>\n",
       "      <td>0.019162</td>\n",
       "      <td>0.024001</td>\n",
       "      <td>0.024001</td>\n",
       "    </tr>\n",
       "    <tr>\n",
       "      <th>indirect emissions from electricity</th>\n",
       "      <td>0.356035</td>\n",
       "      <td>0.995020</td>\n",
       "      <td>0.361107</td>\n",
       "      <td>0.996878</td>\n",
       "      <td>0.843126</td>\n",
       "      <td>0.400004</td>\n",
       "    </tr>\n",
       "    <tr>\n",
       "      <th>other indirect emissions</th>\n",
       "      <td>1.070333</td>\n",
       "      <td>0.518344</td>\n",
       "      <td>1.090284</td>\n",
       "      <td>0.517533</td>\n",
       "      <td>0.003095</td>\n",
       "      <td>0.003095</td>\n",
       "    </tr>\n",
       "    <tr>\n",
       "      <th>direct emissions</th>\n",
       "      <td>4.128155</td>\n",
       "      <td>1.461104</td>\n",
       "      <td>4.128155</td>\n",
       "      <td>1.461104</td>\n",
       "      <td>NaN</td>\n",
       "      <td>NaN</td>\n",
       "    </tr>\n",
       "    <tr>\n",
       "      <th>emissions captured by CCS</th>\n",
       "      <td>NaN</td>\n",
       "      <td>NaN</td>\n",
       "      <td>-3.708162</td>\n",
       "      <td>-1.358500</td>\n",
       "      <td>NaN</td>\n",
       "      <td>NaN</td>\n",
       "    </tr>\n",
       "    <tr>\n",
       "      <th>waste treatment</th>\n",
       "      <td>0.007333</td>\n",
       "      <td>0.000121</td>\n",
       "      <td>0.007333</td>\n",
       "      <td>0.000121</td>\n",
       "      <td>NaN</td>\n",
       "      <td>NaN</td>\n",
       "    </tr>\n",
       "  </tbody>\n",
       "</table>\n",
       "</div>"
      ],
      "text/plain": [
       "                                           CG       SMR    CG+CCS   SMR+CCS   \n",
       "manufacturing                        0.014644  0.014644  0.026976  0.019162  \\\n",
       "indirect emissions from electricity  0.356035  0.995020  0.361107  0.996878   \n",
       "other indirect emissions             1.070333  0.518344  1.090284  0.517533   \n",
       "direct emissions                     4.128155  1.461104  4.128155  1.461104   \n",
       "emissions captured by CCS                 NaN       NaN -3.708162 -1.358500   \n",
       "waste treatment                      0.007333  0.000121  0.007333  0.000121   \n",
       "\n",
       "                                           PV      Wind  \n",
       "manufacturing                        0.024001  0.024001  \n",
       "indirect emissions from electricity  0.843126  0.400004  \n",
       "other indirect emissions             0.003095  0.003095  \n",
       "direct emissions                          NaN       NaN  \n",
       "emissions captured by CCS                 NaN       NaN  \n",
       "waste treatment                           NaN       NaN  "
      ]
     },
     "execution_count": 42,
     "metadata": {},
     "output_type": "execute_result"
    },
    {
     "data": {
      "application/javascript": [
       "\n",
       "            setTimeout(function() {\n",
       "                var nbb_cell_id = 42;\n",
       "                var nbb_unformatted_code = \"LCA_2018 = pd.concat(\\n    [\\n        CG_LCIA_results.iloc[0:6, 1],\\n        SMR_LCIA_results.iloc[0:6, 1],\\n        CG_CCS_LCIA_results.iloc[0:6, 1],\\n        SMR_CCS_LCIA_results.iloc[0:6, 1],\\n        AWE_PV_LCIA_results.iloc[0:6, 1],\\n        AWE_Wind_LCIA_results.iloc[0:6, 1],\\n    ],\\n    axis=1,\\n    join=\\\"outer\\\",\\n    keys=[\\\"CG\\\", \\\"SMR\\\", \\\"CG+CCS\\\", \\\"SMR+CCS\\\", \\\"PV\\\", \\\"Wind\\\",],\\n)\\nLCA_2018\";\n",
       "                var nbb_formatted_code = \"LCA_2018 = pd.concat(\\n    [\\n        CG_LCIA_results.iloc[0:6, 1],\\n        SMR_LCIA_results.iloc[0:6, 1],\\n        CG_CCS_LCIA_results.iloc[0:6, 1],\\n        SMR_CCS_LCIA_results.iloc[0:6, 1],\\n        AWE_PV_LCIA_results.iloc[0:6, 1],\\n        AWE_Wind_LCIA_results.iloc[0:6, 1],\\n    ],\\n    axis=1,\\n    join=\\\"outer\\\",\\n    keys=[\\\"CG\\\", \\\"SMR\\\", \\\"CG+CCS\\\", \\\"SMR+CCS\\\", \\\"PV\\\", \\\"Wind\\\",],\\n)\\nLCA_2018\";\n",
       "                var nbb_cells = Jupyter.notebook.get_cells();\n",
       "                for (var i = 0; i < nbb_cells.length; ++i) {\n",
       "                    if (nbb_cells[i].input_prompt_number == nbb_cell_id) {\n",
       "                        if (nbb_cells[i].get_text() == nbb_unformatted_code) {\n",
       "                             nbb_cells[i].set_text(nbb_formatted_code);\n",
       "                        }\n",
       "                        break;\n",
       "                    }\n",
       "                }\n",
       "            }, 500);\n",
       "            "
      ],
      "text/plain": [
       "<IPython.core.display.Javascript object>"
      ]
     },
     "metadata": {},
     "output_type": "display_data"
    }
   ],
   "source": [
    "LCA_2018 = pd.concat(\n",
    "    [\n",
    "        CG_LCIA_results.iloc[0:6, 1],\n",
    "        SMR_LCIA_results.iloc[0:6, 1],\n",
    "        CG_CCS_LCIA_results.iloc[0:6, 1],\n",
    "        SMR_CCS_LCIA_results.iloc[0:6, 1],\n",
    "        AWE_PV_LCIA_results.iloc[0:6, 1],\n",
    "        AWE_Wind_LCIA_results.iloc[0:6, 1],\n",
    "    ],\n",
    "    axis=1,\n",
    "    join=\"outer\",\n",
    "    keys=[\"CG\", \"SMR\", \"CG+CCS\", \"SMR+CCS\", \"PV\", \"Wind\",],\n",
    ")\n",
    "LCA_2018"
   ]
  },
  {
   "cell_type": "code",
   "execution_count": 62,
   "metadata": {},
   "outputs": [
    {
     "data": {
      "application/javascript": [
       "\n",
       "            setTimeout(function() {\n",
       "                var nbb_cell_id = 62;\n",
       "                var nbb_unformatted_code = \"LCA_2018.to_excel(\\n    r\\\"D:\\\\2 Master\\\\2 Paper\\\\2 Ammonia\\\\2 Python\\\\4 code\\\\1 data\\\\output\\\\LCA_20182.xlsx\\\"\\n)\";\n",
       "                var nbb_formatted_code = \"LCA_2018.to_excel(\\n    r\\\"D:\\\\2 Master\\\\2 Paper\\\\2 Ammonia\\\\2 Python\\\\4 code\\\\1 data\\\\output\\\\LCA_20182.xlsx\\\"\\n)\";\n",
       "                var nbb_cells = Jupyter.notebook.get_cells();\n",
       "                for (var i = 0; i < nbb_cells.length; ++i) {\n",
       "                    if (nbb_cells[i].input_prompt_number == nbb_cell_id) {\n",
       "                        if (nbb_cells[i].get_text() == nbb_unformatted_code) {\n",
       "                             nbb_cells[i].set_text(nbb_formatted_code);\n",
       "                        }\n",
       "                        break;\n",
       "                    }\n",
       "                }\n",
       "            }, 500);\n",
       "            "
      ],
      "text/plain": [
       "<IPython.core.display.Javascript object>"
      ]
     },
     "metadata": {},
     "output_type": "display_data"
    }
   ],
   "source": [
    "LCA_2018.to_excel(\n",
    "    r\"D:\\2 Master\\2 Paper\\2 Ammonia\\2 Python\\4 code\\1 data\\output\\LCA_20182.xlsx\"\n",
    ")"
   ]
  }
 ],
 "metadata": {
  "kernelspec": {
   "display_name": "Python 3 (ipykernel)",
   "language": "python",
   "name": "python3"
  },
  "language_info": {
   "codemirror_mode": {
    "name": "ipython",
    "version": 3
   },
   "file_extension": ".py",
   "mimetype": "text/x-python",
   "name": "python",
   "nbconvert_exporter": "python",
   "pygments_lexer": "ipython3",
   "version": "3.9.7"
  },
  "toc": {
   "base_numbering": 1,
   "nav_menu": {},
   "number_sections": true,
   "sideBar": true,
   "skip_h1_title": false,
   "title_cell": "Table of Contents",
   "title_sidebar": "Contents",
   "toc_cell": false,
   "toc_position": {
    "height": "calc(100% - 180px)",
    "left": "10px",
    "top": "150px",
    "width": "307.194px"
   },
   "toc_section_display": true,
   "toc_window_display": true
  }
 },
 "nbformat": 4,
 "nbformat_minor": 2
}
